{
 "cells": [
  {
   "cell_type": "code",
   "execution_count": 1,
   "id": "7e670bd9",
   "metadata": {},
   "outputs": [],
   "source": [
    "# Importing  all the functions defined in functions.py\n",
    "from functions import *"
   ]
  },
  {
   "cell_type": "code",
   "execution_count": 2,
   "id": "e7d20420",
   "metadata": {},
   "outputs": [],
   "source": [
    "# Model setup\n",
    "# n_iter = 10\n",
    "t_max = 30 # how many days will the simulation run\n",
    "n_hh = 10000\n",
    "type_of_hh_array = [0, 1, 2]\n",
    "prob_type_of_hh_array = [0.4, 0.3, 0.3]\n",
    "mean_hh_size_array = [2, 4, 7]\n",
    "initial_prob_I_array = [0.001, 0.001, 0.001]\n",
    "mean_n_contacts_within_area = [3, 3, 6]\n",
    "mean_n_contacts_outside_area = [2, 2, 2]\n",
    "\n",
    "# transmission parameters\n",
    "max_recovery_t = 10 # assuming person definitely recovers by these many days\n",
    "p_max = 0.1 # probability of infecting someone upon contact on most infectious day\n",
    "mean_gamma = 3.86\n",
    "sd_gamma = 2.65\n",
    "\n",
    "\n"
   ]
  },
  {
   "cell_type": "code",
   "execution_count": 3,
   "id": "07a54332",
   "metadata": {},
   "outputs": [],
   "source": [
    "# create individuals\n",
    "# list_hh_ind[0] is list of hh, [1] is list of individuals, [2] has sublists of individuals by type of hh\n",
    "list_hh_ind = create_hh(n_hh, type_of_hh_array, prob_type_of_hh_array, mean_hh_size_array, initial_prob_I_array)    "
   ]
  },
  {
   "cell_type": "code",
   "execution_count": 4,
   "id": "c25ca47e",
   "metadata": {},
   "outputs": [],
   "source": [
    "# Count how many individuals were created\n",
    "n_ind = len(list_hh_ind[1])"
   ]
  },
  {
   "cell_type": "code",
   "execution_count": 5,
   "id": "27404bb3",
   "metadata": {},
   "outputs": [],
   "source": [
    "# Create the initial adjacency list\n",
    "graph = create_adjacency_list(list_hh_ind, n_hh, n_ind, type_of_hh_array, mean_n_contacts_within_area, mean_n_contacts_outside_area)"
   ]
  },
  {
   "cell_type": "code",
   "execution_count": 6,
   "id": "2355fac7",
   "metadata": {},
   "outputs": [],
   "source": [
    "# calculating probability of infecting someone upon contact given the no. of days since infection.\n",
    "p_t = cal_prob_of_inf(p_max, mean_gamma, sd_gamma, t_inf_max = max_recovery_t)\n",
    "\n",
    "#define x-axis values\n",
    "t = np.linspace (0, max_recovery_t, max_recovery_t+1) \n",
    "\n",
    "import matplotlib.pyplot as plt\n",
    "#create plot of Gamma distribution\n",
    "plt.plot(t, p_t)"
   ]
  },
  {
   "cell_type": "code",
   "execution_count": 7,
   "id": "3feaddeb",
   "metadata": {},
   "outputs": [],
   "source": [
    "# graph.m_adj_list"
   ]
  },
  {
   "cell_type": "code",
   "execution_count": 19,
   "id": "70d736a3",
   "metadata": {},
   "outputs": [],
   "source": [
    "sim(list_hh_ind_input= list_hh_ind, n_ind_input = n_ind, t_max = t_max, graph_input = graph, max_recovery_t_input = max_recovery_t, p_t_input = p_t)\n"
   ]
  },
  {
   "cell_type": "code",
   "execution_count": null,
   "id": "2c935236",
   "metadata": {},
   "outputs": [],
   "source": [
    "# inds = list(graph.m_adj_list.keys()) # list of all individuals in the population\n",
    "# recs = [ind for ind in inds if ind.get_state() == \"R\"]\n",
    "# recs"
   ]
  },
  {
   "cell_type": "code",
   "execution_count": null,
   "id": "7499a3f7",
   "metadata": {},
   "outputs": [],
   "source": [
    "import pandas as pd\n",
    "\n",
    "df = pd.read_csv('test.csv')\n",
    "\n",
    "print(df) "
   ]
  },
  {
   "cell_type": "code",
   "execution_count": null,
   "id": "2babcc9b",
   "metadata": {},
   "outputs": [],
   "source": [
    "# graph.m_adj_list"
   ]
  },
  {
   "cell_type": "code",
   "execution_count": null,
   "id": "bd3f1cdc",
   "metadata": {},
   "outputs": [],
   "source": [
    "a = dict(graph.m_adj_list)\n",
    "list(a.keys())[0].get_type_of_hh()\n",
    "H = nx.Graph(a)  # create a Graph dict mapping nodes to nbrs\n",
    "# list(H.edges)\n",
    "# list(H.nodes)\n",
    "\n",
    "import networkx as nx\n",
    "G = nx.Graph()\n",
    "\n",
    "for i in range(n_ind):\n",
    "    G.add_node(list(a.keys())[i].get_ID())\n",
    "\n",
    "list(G.nodes)\n",
    "\n",
    "\n",
    "import matplotlib.pyplot as plt\n",
    "\n",
    "\n",
    "nx.draw(H, with_labels=False)\n"
   ]
  },
  {
   "cell_type": "code",
   "execution_count": null,
   "id": "32626f71",
   "metadata": {},
   "outputs": [],
   "source": [
    "ind"
   ]
  },
  {
   "cell_type": "code",
   "execution_count": null,
   "id": "862d446c",
   "metadata": {},
   "outputs": [],
   "source": []
  },
  {
   "cell_type": "code",
   "execution_count": null,
   "id": "c562b6b3",
   "metadata": {
    "scrolled": true
   },
   "outputs": [],
   "source": [
    "list(graph.m_adj_list[ind])"
   ]
  },
  {
   "cell_type": "markdown",
   "id": "64d91de0",
   "metadata": {},
   "source": [
    "listable attributes"
   ]
  },
  {
   "cell_type": "code",
   "execution_count": null,
   "id": "7eabcfed",
   "metadata": {},
   "outputs": [],
   "source": [
    "inds = list(graph.m_adj_list.keys())\n",
    "infs = [ind for ind in inds if ind.get_state() == \"I\"]\n",
    "for inf in infs:\n",
    "    connections = graph.m_adj_list[inf]\n",
    "    sus = [con for con in connections if con[0].get_state() == \"S\"]\n",
    "    "
   ]
  },
  {
   "cell_type": "code",
   "execution_count": null,
   "id": "70859030",
   "metadata": {},
   "outputs": [],
   "source": [
    "ind = list(graph.m_adj_list.keys())[0]\n",
    "inds = [i[0].get_ID() for i in list(graph.m_adj_list[ind])]"
   ]
  },
  {
   "cell_type": "code",
   "execution_count": null,
   "id": "9eb7bca9",
   "metadata": {},
   "outputs": [],
   "source": [
    "inds"
   ]
  },
  {
   "cell_type": "code",
   "execution_count": null,
   "id": "ff3c68c3",
   "metadata": {},
   "outputs": [],
   "source": [
    "# printing output of contacts \n",
    "list_ind = []\n",
    "list_type_of_hh = []\n",
    "list_hh_size = []\n",
    "list_n_same_hh = []\n",
    "list_n_same_area = []\n",
    "list_n_outside_area = []\n",
    "list_n_total = []\n",
    "\n",
    "for i in range(n_ind):\n",
    "    ind_temp = list(graph.m_adj_list.keys())[i].get_ID()\n",
    "    list_ind.append(ind_temp)\n",
    "    \n",
    "    type_of_hh_temp = list(graph.m_adj_list.keys())[i].get_type_of_hh()\n",
    "    list_type_of_hh.append(type_of_hh_temp) \n",
    "    \n",
    "    hh_size_temp = int(list(graph.m_adj_list.keys())[i].get_hh_size())\n",
    "    list_hh_size.append(hh_size_temp)\n",
    "       \n",
    "    n_same_hh_temp = len(list(filter(lambda x: x[1] == \"same_hh\", graph.m_adj_list[list(graph.m_adj_list.keys())[i]])))\n",
    "    list_n_same_hh.append(n_same_hh_temp)\n",
    "    \n",
    "    n_same_area_temp = len(list(filter(lambda x: x[1] == \"same_area\", graph.m_adj_list[list(graph.m_adj_list.keys())[i]])))\n",
    "    list_n_same_area.append(n_same_area_temp)\n",
    "    \n",
    "    n_outside_area_temp = len(list(filter(lambda x: x[1] == \"outside_area\", graph.m_adj_list[list(graph.m_adj_list.keys())[i]])))\n",
    "    list_n_outside_area.append(n_outside_area_temp)\n",
    "    \n",
    "    n_total_temp = len(graph.m_adj_list[list(graph.m_adj_list.keys())[i]])\n",
    "    list_n_total.append(n_total_temp)\n",
    "\n",
    "    \n",
    "contact_list = [list_ind, list_type_of_hh, list_hh_size, list_n_same_hh, list_n_same_area, list_n_outside_area, list_n_total]\n",
    "\n",
    "\n",
    "# Convert output to a dataframe\n",
    "import pandas as pd\n",
    "\n",
    "contact_list_df = []\n",
    "contact_list_df = pd.DataFrame(contact_list).transpose()\n",
    "contact_list_df.rename(columns={0:\"ID\", 1: \"type_of_hh\", 2:\"hh_size\", 3:\"contacts_within_hh\", 4:\"contacts_within_area\", 5:\"contacts_outside_area\", 6: \"contacts_total\"}, inplace = True)\n",
    "\n",
    "contact_list_df\n",
    "\n"
   ]
  },
  {
   "cell_type": "code",
   "execution_count": null,
   "id": "7300e179",
   "metadata": {},
   "outputs": [],
   "source": [
    "from matplotlib import pyplot as plt\n",
    "\n",
    "groups = contact_list_df.groupby(\"type_of_hh\")\n",
    "for name, group in groups:\n",
    "    plt.hist(group[\"hh_size\"], label=name, alpha = 0.5)\n",
    "    plt.xlabel('Household size')\n",
    "    plt.ylabel('Frequency')\n",
    "plt.legend()"
   ]
  },
  {
   "cell_type": "code",
   "execution_count": null,
   "id": "9e9f54da",
   "metadata": {},
   "outputs": [],
   "source": []
  }
 ],
 "metadata": {
  "hide_input": false,
  "kernelspec": {
   "display_name": "Python 3 (ipykernel)",
   "language": "python",
   "name": "python3"
  },
  "language_info": {
   "codemirror_mode": {
    "name": "ipython",
    "version": 3
   },
   "file_extension": ".py",
   "mimetype": "text/x-python",
   "name": "python",
   "nbconvert_exporter": "python",
   "pygments_lexer": "ipython3",
   "version": "3.9.7"
  }
 },
 "nbformat": 4,
 "nbformat_minor": 5
}
