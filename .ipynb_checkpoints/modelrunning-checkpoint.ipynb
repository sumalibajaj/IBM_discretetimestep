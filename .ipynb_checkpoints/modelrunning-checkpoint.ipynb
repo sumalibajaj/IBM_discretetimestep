{
 "cells": [
  {
   "cell_type": "code",
   "execution_count": 5,
   "id": "7e670bd9",
   "metadata": {},
   "outputs": [],
   "source": [
    "# Importing  all the functions defined in functions.py\n",
    "from functions import *"
   ]
  },
  {
   "cell_type": "code",
   "execution_count": 6,
   "id": "e7d20420",
   "metadata": {},
   "outputs": [],
   "source": [
    "# from numpy import * \n",
    "\n",
    "# model setup\n",
    "n_iter = 10\n",
    "t_max = 150 # how many days will the simulation run\n",
    "n_hh = 10000\n",
    "type_of_hh_array = [0, 1, 2]\n",
    "prob_type_of_hh_array = [0.33, 0.33, 0.34]\n",
    "mean_hh_size_array = [2, 4, 6]\n",
    "initial_prob_I_array = [0.01, 0.01, 0.01]\n",
    "mean_n_contacts_outside_hh = np.array([[3, 4, 2], [2, 3, 2], [2, 2, 3]])\n",
    "\n",
    "p_drop_contact = [0, 1, 1]\n",
    "t_drop_contact = 30\n",
    "\n",
    "# transmission parameters\n",
    "max_recovery_t = 10 # assuming person definitely recovers by these many days\n",
    "p_max = 0.02 # probability of infecting someone upon contact on most infectious day\n",
    "mean_gamma = 3.86\n",
    "sd_gamma = 2.65\n"
   ]
  },
  {
   "cell_type": "code",
   "execution_count": 7,
   "id": "2355fac7",
   "metadata": {},
   "outputs": [],
   "source": [
    "# calculating probability of infecting someone upon contact given the no. of days since infection.\n",
    "p_t = cal_prob_of_inf(p_max, mean_gamma, sd_gamma, t_inf_max = max_recovery_t)\n",
    "\n",
    "#define x-axis values\n",
    "t = np.linspace (0, max_recovery_t, max_recovery_t+1) \n",
    "\n",
    "# import matplotlib.pyplot as plt\n",
    "# #create plot of Gamma distribution\n",
    "# plt.plot(t, p_t)"
   ]
  },
  {
   "cell_type": "code",
   "execution_count": 8,
   "id": "1efa6d97",
   "metadata": {},
   "outputs": [
    {
     "name": "stdout",
     "output_type": "stream",
     "text": [
      "adjacency graph created\n",
      "Simulation  1  is complete.\n",
      "adjacency graph created\n",
      "Simulation  2  is complete.\n",
      "adjacency graph created\n",
      "Simulation  3  is complete.\n",
      "adjacency graph created\n",
      "Simulation  4  is complete.\n",
      "adjacency graph created\n",
      "Simulation  5  is complete.\n",
      "adjacency graph created\n",
      "Simulation  6  is complete.\n",
      "adjacency graph created\n",
      "Simulation  7  is complete.\n",
      "adjacency graph created\n",
      "Simulation  8  is complete.\n",
      "adjacency graph created\n",
      "Simulation  9  is complete.\n",
      "adjacency graph created\n",
      "Simulation  10  is complete.\n",
      "adjacency graph created\n",
      "Simulation  11  is complete.\n",
      "adjacency graph created\n",
      "Simulation  12  is complete.\n",
      "adjacency graph created\n",
      "Simulation  13  is complete.\n",
      "adjacency graph created\n",
      "Simulation  14  is complete.\n",
      "adjacency graph created\n",
      "Simulation  15  is complete.\n",
      "adjacency graph created\n",
      "Simulation  16  is complete.\n",
      "adjacency graph created\n",
      "Simulation  17  is complete.\n",
      "adjacency graph created\n",
      "Simulation  18  is complete.\n",
      "adjacency graph created\n",
      "Simulation  19  is complete.\n",
      "adjacency graph created\n",
      "Simulation  20  is complete.\n"
     ]
    }
   ],
   "source": [
    "# running the simulations and the output is saved in csv files\n",
    "sim(n_iter_input = n_iter, n_hh_input = n_hh, type_of_hh_array_input = type_of_hh_array, \\\n",
    "    prob_type_of_hh_array_input = prob_type_of_hh_array, mean_hh_size_array_input = mean_hh_size_array, \\\n",
    "    initial_prob_I_array_input = initial_prob_I_array, \\\n",
    "    mean_n_contacts_outside_hh_input = mean_n_contacts_outside_hh, \\\n",
    "    t_max_input = t_max, max_recovery_t_input = max_recovery_t, p_t_input = p_t, \\\n",
    "    p_drop_contact_input = p_drop_contact, t_drop_contact_input = t_drop_contact)"
   ]
  },
  {
   "cell_type": "code",
   "execution_count": 9,
   "id": "7b1e2be9",
   "metadata": {},
   "outputs": [],
   "source": [
    "# list_hh_ind_input = create_hh(n_hh_input = n_hh, type_of_hh_array_input = type_of_hh_array, \\\n",
    "#                               prob_type_of_hh_array_input = prob_type_of_hh_array, \\\n",
    "#                               mean_hh_size_array_input = mean_hh_size_array, \\\n",
    "#                               initial_prob_I_array_input = initial_prob_I_array)\n",
    "\n",
    "# n_ind_input = len(list_hh_ind_input[1])\n",
    "\n",
    "# graph = create_adjacency_list(list_hh_ind_input = list_hh_ind_input, n_hh_input = n_hh, \\\n",
    "#                                     n_ind_input = n_ind_input, type_of_hh_array_input = type_of_hh_array, \\\n",
    "#                                     mean_n_contacts_outside_hh_input = mean_n_contacts_outside_hh)\n"
   ]
  },
  {
   "cell_type": "code",
   "execution_count": 10,
   "id": "57c03914",
   "metadata": {},
   "outputs": [],
   "source": [
    "# view_input_observed_contact_matrices(graph_input = graph, type_of_hh_array_input = type_of_hh_array, \\\n",
    "#                                      mean_n_contacts_outside_hh_input = mean_n_contacts_outside_hh, \\\n",
    "#                                      mean_hh_size_array_input = mean_hh_size_array)"
   ]
  },
  {
   "cell_type": "code",
   "execution_count": 11,
   "id": "e93fa10f",
   "metadata": {},
   "outputs": [
    {
     "data": {
      "image/png": "[encoded data removed]",
      "text/plain": [
       "<Figure size 432x288 with 1 Axes>"
      ]
     },
     "metadata": {
      "needs_background": "light"
     },
     "output_type": "display_data"
    }
   ],
   "source": [
    "# importing outputs\n",
    "import pandas as pd\n",
    "\n",
    "dat = pd.read_csv('sim.csv')\n",
    "\n",
    "# ploting S, I, R dynamics over time\n",
    "import matplotlib.pyplot as plt\n",
    "\n",
    "for i in range(1,n_iter+1): \n",
    "    dat_temp = dat.loc[dat['iter '] == i]\n",
    "    \n",
    "    # x axis values\n",
    "    x = dat_temp[['time']]\n",
    "    # corresponding y axis values\n",
    "    S = dat_temp[['S']]\n",
    "    I = dat_temp[['I']]\n",
    "    R = dat_temp[['R']]\n",
    "\n",
    "    # plotting the points\n",
    "    plt.plot(x, S, '#FA9C0A', label = \"Susceptibles\")\n",
    "    plt.plot(x, I, '#DD5C27', label = \"Infected\")\n",
    "    plt.plot(x, R, '#0A5365', label = \"Recovered\")\n",
    "\n",
    "\n",
    "    # naming the x axis\n",
    "    plt.xlabel('Time')\n",
    "    # naming the y axis\n",
    "    plt.ylabel('y - axis')\n",
    "\n",
    "# giving a title to my graph\n",
    "plt.title('Number of individuals in states over time')\n",
    "# show a legend on the plot\n",
    "plt.legend(['Susceptible','Infected','Recovered'])\n",
    "# function to show the plot\n",
    "plt.show()\n",
    "\n"
   ]
  },
  {
   "cell_type": "code",
   "execution_count": 12,
   "id": "0bec4620",
   "metadata": {},
   "outputs": [
    {
     "data": {
      "image/png": "[encoded data removed]",
      "text/plain": [
       "<Figure size 432x288 with 1 Axes>"
      ]
     },
     "metadata": {
      "needs_background": "light"
     },
     "output_type": "display_data"
    }
   ],
   "source": [
    "# COLORS ARE FROM http://colormind.io/\n",
    "\n",
    "# importing outputs\n",
    "import pandas as pd\n",
    "\n",
    "dat_infs = pd.read_csv('infs.csv')\n",
    "\n",
    "# ploting I dynamics over time by area\n",
    "import matplotlib.pyplot as plt\n",
    "\n",
    "for i in range(1,n_iter+1): \n",
    "    dat_temp = dat_infs.loc[dat_infs['iter '] == i]\n",
    "    \n",
    "    # x axis values\n",
    "    t = dat_temp[['time']]\n",
    "    # corresponding y axis values\n",
    "    I_0 = dat_temp[['area_0']]\n",
    "    I_1 = dat_temp[['area_1']]\n",
    "    I_2 = dat_temp[['area_2']]\n",
    "\n",
    "    # plotting the points\n",
    "    plt.plot(t, I_0, '#F3E59B', label = \"Area 0\")\n",
    "    plt.plot(t, I_1, '#E68E35', label = \"Area 1\")\n",
    "    plt.plot(t, I_2, '#508281', label = \"Area 2\")\n",
    "\n",
    "\n",
    "    # naming the x axis\n",
    "    plt.xlabel('Time')\n",
    "    # naming the y axis\n",
    "    plt.ylabel('y - axis')\n",
    "\n",
    "# giving a title to my graph\n",
    "plt.title('Number of infected individuals over time by areas')\n",
    "# show a legend on the plot\n",
    "plt.legend(['Area 0','Area 1','Area 2'])\n",
    "# function to show the plot\n",
    "plt.show()\n",
    "\n"
   ]
  },
  {
   "cell_type": "code",
   "execution_count": null,
   "id": "7499a3f7",
   "metadata": {},
   "outputs": [],
   "source": [
    "import pandas as pd\n",
    "\n",
    "colnames = ['infector_ID', 'infector_type_of_hh', 'infectee_ID', 'infectee_type_of_hh', 'time', 'iter']\n",
    "df = pd.read_csv('test.csv', names = colnames)\n",
    "df = df.iloc[1: , :] # dropping first row (these are column headings now)\n",
    "df = df.loc[df['iter'] == '1']"
   ]
  },
  {
   "cell_type": "code",
   "execution_count": null,
   "id": "f7b23d7b",
   "metadata": {},
   "outputs": [],
   "source": [
    "import networkx as nx\n",
    "import matplotlib as plt\n",
    "\n",
    "# fig, ax = plt.subplots(figsize=(15, 8))\n",
    "# initialising graph\n",
    "I = nx.Graph()\n",
    "\n",
    "# creating edge list (reading it from the output)\n",
    "edge_list = list(df[['infector_ID', 'infectee_ID']].apply(tuple, axis=1))\n",
    "I.add_edges_from(edge_list)\n",
    "\n",
    "df1 = df[['infector_ID', 'infector_type_of_hh']]\n",
    "df1.columns = ['node', 'type_of_hh']\n",
    "df2 = df[['infectee_ID', 'infectee_type_of_hh']]\n",
    "df2.columns = ['node', 'type_of_hh']\n",
    "\n",
    "frames = [df1, df2]\n",
    "\n",
    "df3 = pd.concat(frames)\n",
    "df3 = df3.drop_duplicates()\n",
    "\n",
    "car = df3\n",
    "\n",
    "# Make types into categories\n",
    "car = car.set_index('node')\n",
    "\n",
    "car['type_of_hh'] = pd.Categorical(car['type_of_hh'])\n",
    "\n",
    " \n",
    "# Specify colors\n",
    "cmap = plt.colors.ListedColormap(['C0', 'darkorange', 'green'])\n",
    "\n",
    "# drawing network\n",
    "nx.draw(I, with_labels=False, node_color=car['type_of_hh'].cat.codes, cmap = cmap)\n",
    "\n"
   ]
  },
  {
   "cell_type": "code",
   "execution_count": null,
   "id": "ff3c68c3",
   "metadata": {},
   "outputs": [],
   "source": [
    "# printing output of contacts \n",
    "list_ind = []\n",
    "list_type_of_hh = []\n",
    "list_hh_size = []\n",
    "list_n_same_hh = []\n",
    "list_n_same_area = []\n",
    "list_n_outside_area = []\n",
    "list_n_total = []\n",
    "\n",
    "for i in range(n_ind_input):\n",
    "    ind_temp = list(graph.m_adj_list.keys())[i].get_ID()\n",
    "    list_ind.append(ind_temp)\n",
    "    \n",
    "    type_of_hh_temp = list(graph.m_adj_list.keys())[i].get_type_of_hh()\n",
    "    list_type_of_hh.append(type_of_hh_temp) \n",
    "    \n",
    "    hh_size_temp = int(list(graph.m_adj_list.keys())[i].get_hh_size())\n",
    "    list_hh_size.append(hh_size_temp)\n",
    "       \n",
    "    n_same_hh_temp = len(list(filter(lambda x: x[1] == \"same_hh\", graph.m_adj_list[list(graph.m_adj_list.keys())[i]])))\n",
    "    list_n_same_hh.append(n_same_hh_temp)\n",
    "    \n",
    "    n_same_area_temp = len(list(filter(lambda x: x[1] == \"same_area\", graph.m_adj_list[list(graph.m_adj_list.keys())[i]])))\n",
    "    list_n_same_area.append(n_same_area_temp)\n",
    "    \n",
    "    n_outside_area_temp = len(list(filter(lambda x: x[1] == \"outside_area\", graph.m_adj_list[list(graph.m_adj_list.keys())[i]])))\n",
    "    list_n_outside_area.append(n_outside_area_temp)\n",
    "    \n",
    "    n_total_temp = len(graph.m_adj_list[list(graph.m_adj_list.keys())[i]])\n",
    "    list_n_total.append(n_total_temp)\n",
    "\n",
    "    \n",
    "contact_list = [list_ind, list_type_of_hh, list_hh_size, list_n_same_hh, list_n_same_area, list_n_outside_area, list_n_total]\n",
    "\n",
    "\n",
    "# Convert output to a dataframe\n",
    "import pandas as pd\n",
    "\n",
    "contact_list_df = []\n",
    "contact_list_df = pd.DataFrame(contact_list).transpose()\n",
    "contact_list_df.rename(columns={0:\"ID\", 1: \"type_of_hh\", 2:\"hh_size\", 3:\"contacts_within_hh\", 4:\"contacts_within_area\", 5:\"contacts_outside_area\", 6: \"contacts_total\"}, inplace = True)\n",
    "\n",
    "pd.set_option(\"display.max_rows\", None, \"display.max_columns\", None)\n",
    "\n",
    "display(contact_list_df)\n",
    "\n"
   ]
  },
  {
   "cell_type": "code",
   "execution_count": null,
   "id": "7300e179",
   "metadata": {},
   "outputs": [],
   "source": [
    "from matplotlib import pyplot as plt\n",
    "\n",
    "groups = contact_list_df.groupby(\"type_of_hh\")\n",
    "for name, group in groups:\n",
    "    plt.hist(group[\"hh_size\"], label=name, alpha = 0.5)\n",
    "    plt.xlabel('Household size')\n",
    "    plt.ylabel('Frequency')\n",
    "plt.legend()"
   ]
  },
  {
   "cell_type": "code",
   "execution_count": null,
   "id": "9e9f54da",
   "metadata": {},
   "outputs": [],
   "source": []
  }
 ],
 "metadata": {
  "hide_input": false,
  "kernelspec": {
   "display_name": "Python 3 (ipykernel)",
   "language": "python",
   "name": "python3"
  },
  "language_info": {
   "codemirror_mode": {
    "name": "ipython",
    "version": 3
   },
   "file_extension": ".py",
   "mimetype": "text/x-python",
   "name": "python",
   "nbconvert_exporter": "python",
   "pygments_lexer": "ipython3",
   "version": "3.9.7"
  }
 },
 "nbformat": 4,
 "nbformat_minor": 5
}
