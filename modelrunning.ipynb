{
 "cells": [
  {
   "cell_type": "code",
   "execution_count": 1,
   "id": "7e670bd9",
   "metadata": {},
   "outputs": [],
   "source": [
    "# Importing  all the functions defined in functions.py\n",
    "from functions import *"
   ]
  },
  {
   "cell_type": "code",
   "execution_count": 2,
   "id": "e7d20420",
   "metadata": {},
   "outputs": [],
   "source": [
    "# Model setup\n",
    "# n_iter = 10\n",
    "t_max = 30 # how many days will the simulation run\n",
    "n_hh = 10000\n",
    "type_of_hh_array = [0, 1, 2]\n",
    "prob_type_of_hh_array = [0.4, 0.3, 0.3]\n",
    "mean_hh_size_array = [2, 4, 7]\n",
    "initial_prob_I_array = [0.001, 0.001, 0.001]\n",
    "mean_n_contacts_within_area = [3, 3, 6]\n",
    "mean_n_contacts_outside_area = [2, 2, 2]\n",
    "\n",
    "# transmission parameters\n",
    "max_recovery_t = 10 # assuming person definitely recovers by these many days\n",
    "p_max = 0.1 # probability of infecting someone upon contact on most infectious day\n",
    "mean_gamma = 3.86\n",
    "sd_gamma = 2.65\n",
    "\n",
    "\n"
   ]
  },
  {
   "cell_type": "code",
   "execution_count": 3,
   "id": "07a54332",
   "metadata": {},
   "outputs": [],
   "source": [
    "# create individuals\n",
    "# list_hh_ind[0] is list of hh, [1] is list of individuals, [2] has sublists of individuals by type of hh\n",
    "list_hh_ind = create_hh(n_hh, type_of_hh_array, prob_type_of_hh_array, mean_hh_size_array, initial_prob_I_array)    "
   ]
  },
  {
   "cell_type": "code",
   "execution_count": 4,
   "id": "c25ca47e",
   "metadata": {},
   "outputs": [],
   "source": [
    "# Count how many individuals were created\n",
    "n_ind = len(list_hh_ind[1])"
   ]
  },
  {
   "cell_type": "code",
   "execution_count": 5,
   "id": "27404bb3",
   "metadata": {},
   "outputs": [],
   "source": [
    "# Create the initial adjacency list\n",
    "graph = create_adjacency_list(list_hh_ind, n_hh, n_ind, type_of_hh_array, mean_n_contacts_within_area, mean_n_contacts_outside_area)"
   ]
  },
  {
   "cell_type": "code",
   "execution_count": 20,
   "id": "2355fac7",
   "metadata": {},
   "outputs": [
    {
     "data": {
      "text/plain": [
       "[<matplotlib.lines.Line2D at 0x7ff6dc83fb20>]"
      ]
     },
     "execution_count": 20,
     "metadata": {},
     "output_type": "execute_result"
    },
    {
     "data": {
      "image/png": "[encoded data removed]",
      "text/plain": [
       "<Figure size 432x288 with 1 Axes>"
      ]
     },
     "metadata": {
      "needs_background": "light"
     },
     "output_type": "display_data"
    }
   ],
   "source": [
    "# calculating probability of infecting someone upon contact given the no. of days since infection.\n",
    "p_t = cal_prob_of_inf(p_max, mean_gamma, sd_gamma, t_inf_max = max_recovery_t)\n",
    "\n",
    "#define x-axis values\n",
    "t = np.linspace (0, max_recovery_t, max_recovery_t+1) \n",
    "\n",
    "import matplotlib.pyplot as plt\n",
    "#create plot of Gamma distribution\n",
    "plt.plot(t, p_t)"
   ]
  },
  {
   "cell_type": "code",
   "execution_count": 7,
   "id": "3feaddeb",
   "metadata": {},
   "outputs": [],
   "source": [
    "# graph.m_adj_list"
   ]
  },
  {
   "cell_type": "code",
   "execution_count": 8,
   "id": "c526764c",
   "metadata": {},
   "outputs": [
    {
     "data": {
      "text/plain": [
       "12"
      ]
     },
     "execution_count": 8,
     "metadata": {},
     "output_type": "execute_result"
    }
   ],
   "source": [
    "f = open('test.csv', 'w')\n",
    "f.write(\"infector_ID, infector_type_of_hh, infectee_ID, infectee_type_of_hh, time \\n\")\n",
    "\n",
    "g = open('sim.csv', 'w')\n",
    "g.write(\"S, I, R, t \\n\")"
   ]
  },
  {
   "cell_type": "code",
   "execution_count": 9,
   "id": "3dd7d668",
   "metadata": {},
   "outputs": [],
   "source": [
    "I_temp = len([i for i in list_hh_ind[1] if i.get_state() == \"I\"])\n",
    "S_temp = n_ind - I_temp\n",
    "R_temp = 0"
   ]
  },
  {
   "cell_type": "code",
   "execution_count": 10,
   "id": "45c824d7",
   "metadata": {},
   "outputs": [],
   "source": [
    "t = 0\n",
    "while t <= t_max:\n",
    "    inds = list(graph.m_adj_list.keys()) # list of all individuals in the population\n",
    "    infs = [ind for ind in inds if ind.get_state() == \"I\"] # list of all infected individuals in the population\n",
    "    for inf in infs:\n",
    "        time_since_infection = t - inf.get_time_of_infection()\n",
    "        if time_since_infection >= max_recovery_t:\n",
    "            inf.ItoR()\n",
    "            I_temp -= 1\n",
    "            R_temp += 1\n",
    "        else:\n",
    "            connections = graph.m_adj_list[inf] # set of all connections for a given infected individual\n",
    "            sus = [con for con in connections if con[0].get_state() == \"S\"]\n",
    "            n_to_infect = int(np.random.binomial(len(sus), p_t[time_since_infection], 1)) # this depends on how long inf individual has been infectious\n",
    "            sus_selected = random.sample(sus, n_to_infect) # selecting susceptibles who will get infected\n",
    "            for sus_sel in sus_selected:\n",
    "                # Do the following actions now that is person is getting infected\n",
    "                sus_sel[0].add_time_of_infection(t)\n",
    "                sus_sel[0].add_infector_ID(inf.get_ID())            \n",
    "                sus_sel[0].add_infector_hh(inf.get_hh())          \n",
    "                sus_sel[0].add_infector_type_of_hh(inf.get_type_of_hh())           \n",
    "                sus_sel[0].StoI()           \n",
    "\n",
    "                # write these datapoints into a file\n",
    "                infector_ID_temp = str(inf.get_ID())\n",
    "                infector_type_of_hh_temp = str(inf.get_type_of_hh())            \n",
    "                infectee_ID_temp = str(sus_sel[0].get_ID())\n",
    "                infectee_type_of_hh_temp = str(sus_sel[0].get_type_of_hh())            \n",
    "                time_of_infection_temp = str(t)\n",
    "                f.write(infector_ID_temp+\",\"+infector_type_of_hh_temp+\",\"+infectee_ID_temp+\",\"+infectee_type_of_hh_temp+\",\"+time_of_infection_temp+\"\\n\")\n",
    "\n",
    "                # update SIR dataset\n",
    "                S_temp -= 1\n",
    "                I_temp += 1\n",
    "        \n",
    "    t += 1\n",
    "    # update SIR dataset\n",
    "    g.write(str(S_temp)+\",\"+str(I_temp)+\",\"+str(R_temp)+\",\"+str(t)+\"\\n\")\n",
    "    \n",
    "f.close()\n",
    "g.close()\n",
    "    "
   ]
  },
  {
   "cell_type": "code",
   "execution_count": 11,
   "id": "2c935236",
   "metadata": {},
   "outputs": [],
   "source": [
    "# inds = list(graph.m_adj_list.keys()) # list of all individuals in the population\n",
    "# recs = [ind for ind in inds if ind.get_state() == \"R\"]\n",
    "# recs"
   ]
  },
  {
   "cell_type": "code",
   "execution_count": 12,
   "id": "7499a3f7",
   "metadata": {},
   "outputs": [
    {
     "name": "stdout",
     "output_type": "stream",
     "text": [
      "       infector_ID   infector_type_of_hh   infectee_ID   infectee_type_of_hh  \\\n",
      "0              127                     2          3703                     2   \n",
      "1              127                     2          7562                     1   \n",
      "2              127                     2         22124                     1   \n",
      "3             1628                     1         20705                     1   \n",
      "4             2117                     2          2115                     2   \n",
      "...            ...                   ...           ...                   ...   \n",
      "40895        29426                     0         12229                     0   \n",
      "40896        36215                     2         15083                     1   \n",
      "40897        19545                     1         23821                     1   \n",
      "40898        21776                     0         26583                     1   \n",
      "40899        24839                     0         39815                     1   \n",
      "\n",
      "        time   \n",
      "0           1  \n",
      "1           1  \n",
      "2           1  \n",
      "3           1  \n",
      "4           1  \n",
      "...       ...  \n",
      "40895      14  \n",
      "40896      14  \n",
      "40897      15  \n",
      "40898      16  \n",
      "40899      16  \n",
      "\n",
      "[40900 rows x 5 columns]\n"
     ]
    }
   ],
   "source": [
    "import pandas as pd\n",
    "\n",
    "df = pd.read_csv('test.csv')\n",
    "\n",
    "print(df) "
   ]
  },
  {
   "cell_type": "code",
   "execution_count": 13,
   "id": "2babcc9b",
   "metadata": {},
   "outputs": [],
   "source": [
    "# graph.m_adj_list"
   ]
  },
  {
   "cell_type": "code",
   "execution_count": 14,
   "id": "bd3f1cdc",
   "metadata": {},
   "outputs": [
    {
     "ename": "NameError",
     "evalue": "name 'nx' is not defined",
     "output_type": "error",
     "traceback": [
      "\u001b[0;31m---------------------------------------------------------------------------\u001b[0m",
      "\u001b[0;31mNameError\u001b[0m                                 Traceback (most recent call last)",
      "\u001b[0;32m/var/folders/cc/6sdsfr112b54q1tk3j3750ww0000gn/T/ipykernel_6406/2140525586.py\u001b[0m in \u001b[0;36m<module>\u001b[0;34m\u001b[0m\n\u001b[1;32m      1\u001b[0m \u001b[0ma\u001b[0m \u001b[0;34m=\u001b[0m \u001b[0mdict\u001b[0m\u001b[0;34m(\u001b[0m\u001b[0mgraph\u001b[0m\u001b[0;34m.\u001b[0m\u001b[0mm_adj_list\u001b[0m\u001b[0;34m)\u001b[0m\u001b[0;34m\u001b[0m\u001b[0;34m\u001b[0m\u001b[0m\n\u001b[1;32m      2\u001b[0m \u001b[0mlist\u001b[0m\u001b[0;34m(\u001b[0m\u001b[0ma\u001b[0m\u001b[0;34m.\u001b[0m\u001b[0mkeys\u001b[0m\u001b[0;34m(\u001b[0m\u001b[0;34m)\u001b[0m\u001b[0;34m)\u001b[0m\u001b[0;34m[\u001b[0m\u001b[0;36m0\u001b[0m\u001b[0;34m]\u001b[0m\u001b[0;34m.\u001b[0m\u001b[0mget_type_of_hh\u001b[0m\u001b[0;34m(\u001b[0m\u001b[0;34m)\u001b[0m\u001b[0;34m\u001b[0m\u001b[0;34m\u001b[0m\u001b[0m\n\u001b[0;32m----> 3\u001b[0;31m \u001b[0mH\u001b[0m \u001b[0;34m=\u001b[0m \u001b[0mnx\u001b[0m\u001b[0;34m.\u001b[0m\u001b[0mGraph\u001b[0m\u001b[0;34m(\u001b[0m\u001b[0ma\u001b[0m\u001b[0;34m)\u001b[0m  \u001b[0;31m# create a Graph dict mapping nodes to nbrs\u001b[0m\u001b[0;34m\u001b[0m\u001b[0;34m\u001b[0m\u001b[0m\n\u001b[0m\u001b[1;32m      4\u001b[0m \u001b[0;31m# list(H.edges)\u001b[0m\u001b[0;34m\u001b[0m\u001b[0;34m\u001b[0m\u001b[0m\n\u001b[1;32m      5\u001b[0m \u001b[0;31m# list(H.nodes)\u001b[0m\u001b[0;34m\u001b[0m\u001b[0;34m\u001b[0m\u001b[0m\n",
      "\u001b[0;31mNameError\u001b[0m: name 'nx' is not defined"
     ]
    }
   ],
   "source": [
    "a = dict(graph.m_adj_list)\n",
    "list(a.keys())[0].get_type_of_hh()\n",
    "H = nx.Graph(a)  # create a Graph dict mapping nodes to nbrs\n",
    "# list(H.edges)\n",
    "# list(H.nodes)\n",
    "\n",
    "import networkx as nx\n",
    "G = nx.Graph()\n",
    "\n",
    "for i in range(n_ind):\n",
    "    G.add_node(list(a.keys())[i].get_ID())\n",
    "\n",
    "list(G.nodes)\n",
    "\n",
    "\n",
    "import matplotlib.pyplot as plt\n",
    "\n",
    "\n",
    "nx.draw(H, with_labels=False)\n"
   ]
  },
  {
   "cell_type": "code",
   "execution_count": null,
   "id": "32626f71",
   "metadata": {},
   "outputs": [],
   "source": [
    "ind"
   ]
  },
  {
   "cell_type": "code",
   "execution_count": null,
   "id": "862d446c",
   "metadata": {},
   "outputs": [],
   "source": []
  },
  {
   "cell_type": "code",
   "execution_count": null,
   "id": "c562b6b3",
   "metadata": {
    "scrolled": true
   },
   "outputs": [],
   "source": [
    "list(graph.m_adj_list[ind])"
   ]
  },
  {
   "cell_type": "markdown",
   "id": "64d91de0",
   "metadata": {},
   "source": [
    "listable attributes"
   ]
  },
  {
   "cell_type": "code",
   "execution_count": 15,
   "id": "7eabcfed",
   "metadata": {},
   "outputs": [],
   "source": [
    "inds = list(graph.m_adj_list.keys())\n",
    "infs = [ind for ind in inds if ind.get_state() == \"I\"]\n",
    "for inf in infs:\n",
    "    connections = graph.m_adj_list[inf]\n",
    "    sus = [con for con in connections if con[0].get_state() == \"S\"]\n",
    "    "
   ]
  },
  {
   "cell_type": "code",
   "execution_count": 16,
   "id": "70859030",
   "metadata": {},
   "outputs": [],
   "source": [
    "ind = list(graph.m_adj_list.keys())[0]\n",
    "inds = [i[0].get_ID() for i in list(graph.m_adj_list[ind])]"
   ]
  },
  {
   "cell_type": "code",
   "execution_count": 17,
   "id": "9eb7bca9",
   "metadata": {},
   "outputs": [
    {
     "data": {
      "text/plain": [
       "[28149,\n",
       " 22131,\n",
       " 11733,\n",
       " 26690,\n",
       " 31166,\n",
       " 29831,\n",
       " 30756,\n",
       " 39343,\n",
       " 21404,\n",
       " 1,\n",
       " 931,\n",
       " 10714,\n",
       " 24319,\n",
       " 11548,\n",
       " 22228,\n",
       " 3916]"
      ]
     },
     "execution_count": 17,
     "metadata": {},
     "output_type": "execute_result"
    }
   ],
   "source": [
    "inds"
   ]
  },
  {
   "cell_type": "code",
   "execution_count": 18,
   "id": "ff3c68c3",
   "metadata": {},
   "outputs": [
    {
     "data": {
      "text/html": [
       "<div>\n",
       "<style scoped>\n",
       "    .dataframe tbody tr th:only-of-type {\n",
       "        vertical-align: middle;\n",
       "    }\n",
       "\n",
       "    .dataframe tbody tr th {\n",
       "        vertical-align: top;\n",
       "    }\n",
       "\n",
       "    .dataframe thead th {\n",
       "        text-align: right;\n",
       "    }\n",
       "</style>\n",
       "<table border=\"1\" class=\"dataframe\">\n",
       "  <thead>\n",
       "    <tr style=\"text-align: right;\">\n",
       "      <th></th>\n",
       "      <th>ID</th>\n",
       "      <th>type_of_hh</th>\n",
       "      <th>hh_size</th>\n",
       "      <th>contacts_within_hh</th>\n",
       "      <th>contacts_within_area</th>\n",
       "      <th>contacts_outside_area</th>\n",
       "      <th>contacts_total</th>\n",
       "    </tr>\n",
       "  </thead>\n",
       "  <tbody>\n",
       "    <tr>\n",
       "      <th>0</th>\n",
       "      <td>0</td>\n",
       "      <td>0</td>\n",
       "      <td>2</td>\n",
       "      <td>1</td>\n",
       "      <td>7</td>\n",
       "      <td>8</td>\n",
       "      <td>16</td>\n",
       "    </tr>\n",
       "    <tr>\n",
       "      <th>1</th>\n",
       "      <td>1</td>\n",
       "      <td>0</td>\n",
       "      <td>2</td>\n",
       "      <td>1</td>\n",
       "      <td>6</td>\n",
       "      <td>15</td>\n",
       "      <td>22</td>\n",
       "    </tr>\n",
       "    <tr>\n",
       "      <th>2</th>\n",
       "      <td>2</td>\n",
       "      <td>0</td>\n",
       "      <td>2</td>\n",
       "      <td>1</td>\n",
       "      <td>6</td>\n",
       "      <td>7</td>\n",
       "      <td>14</td>\n",
       "    </tr>\n",
       "    <tr>\n",
       "      <th>3</th>\n",
       "      <td>3</td>\n",
       "      <td>0</td>\n",
       "      <td>2</td>\n",
       "      <td>1</td>\n",
       "      <td>2</td>\n",
       "      <td>6</td>\n",
       "      <td>9</td>\n",
       "    </tr>\n",
       "    <tr>\n",
       "      <th>4</th>\n",
       "      <td>4</td>\n",
       "      <td>0</td>\n",
       "      <td>4</td>\n",
       "      <td>3</td>\n",
       "      <td>6</td>\n",
       "      <td>11</td>\n",
       "      <td>20</td>\n",
       "    </tr>\n",
       "    <tr>\n",
       "      <th>...</th>\n",
       "      <td>...</td>\n",
       "      <td>...</td>\n",
       "      <td>...</td>\n",
       "      <td>...</td>\n",
       "      <td>...</td>\n",
       "      <td>...</td>\n",
       "      <td>...</td>\n",
       "    </tr>\n",
       "    <tr>\n",
       "      <th>40947</th>\n",
       "      <td>40947</td>\n",
       "      <td>0</td>\n",
       "      <td>2</td>\n",
       "      <td>1</td>\n",
       "      <td>6</td>\n",
       "      <td>13</td>\n",
       "      <td>20</td>\n",
       "    </tr>\n",
       "    <tr>\n",
       "      <th>40948</th>\n",
       "      <td>40948</td>\n",
       "      <td>0</td>\n",
       "      <td>2</td>\n",
       "      <td>1</td>\n",
       "      <td>6</td>\n",
       "      <td>7</td>\n",
       "      <td>14</td>\n",
       "    </tr>\n",
       "    <tr>\n",
       "      <th>40949</th>\n",
       "      <td>40949</td>\n",
       "      <td>1</td>\n",
       "      <td>2</td>\n",
       "      <td>1</td>\n",
       "      <td>8</td>\n",
       "      <td>6</td>\n",
       "      <td>15</td>\n",
       "    </tr>\n",
       "    <tr>\n",
       "      <th>40950</th>\n",
       "      <td>40950</td>\n",
       "      <td>1</td>\n",
       "      <td>2</td>\n",
       "      <td>1</td>\n",
       "      <td>2</td>\n",
       "      <td>4</td>\n",
       "      <td>7</td>\n",
       "    </tr>\n",
       "    <tr>\n",
       "      <th>40951</th>\n",
       "      <td>40951</td>\n",
       "      <td>1</td>\n",
       "      <td>1</td>\n",
       "      <td>0</td>\n",
       "      <td>7</td>\n",
       "      <td>8</td>\n",
       "      <td>15</td>\n",
       "    </tr>\n",
       "  </tbody>\n",
       "</table>\n",
       "<p>40952 rows × 7 columns</p>\n",
       "</div>"
      ],
      "text/plain": [
       "          ID  type_of_hh  hh_size  contacts_within_hh  contacts_within_area  \\\n",
       "0          0           0        2                   1                     7   \n",
       "1          1           0        2                   1                     6   \n",
       "2          2           0        2                   1                     6   \n",
       "3          3           0        2                   1                     2   \n",
       "4          4           0        4                   3                     6   \n",
       "...      ...         ...      ...                 ...                   ...   \n",
       "40947  40947           0        2                   1                     6   \n",
       "40948  40948           0        2                   1                     6   \n",
       "40949  40949           1        2                   1                     8   \n",
       "40950  40950           1        2                   1                     2   \n",
       "40951  40951           1        1                   0                     7   \n",
       "\n",
       "       contacts_outside_area  contacts_total  \n",
       "0                          8              16  \n",
       "1                         15              22  \n",
       "2                          7              14  \n",
       "3                          6               9  \n",
       "4                         11              20  \n",
       "...                      ...             ...  \n",
       "40947                     13              20  \n",
       "40948                      7              14  \n",
       "40949                      6              15  \n",
       "40950                      4               7  \n",
       "40951                      8              15  \n",
       "\n",
       "[40952 rows x 7 columns]"
      ]
     },
     "execution_count": 18,
     "metadata": {},
     "output_type": "execute_result"
    }
   ],
   "source": [
    "# printing output of contacts \n",
    "list_ind = []\n",
    "list_type_of_hh = []\n",
    "list_hh_size = []\n",
    "list_n_same_hh = []\n",
    "list_n_same_area = []\n",
    "list_n_outside_area = []\n",
    "list_n_total = []\n",
    "\n",
    "for i in range(n_ind):\n",
    "    ind_temp = list(graph.m_adj_list.keys())[i].get_ID()\n",
    "    list_ind.append(ind_temp)\n",
    "    \n",
    "    type_of_hh_temp = list(graph.m_adj_list.keys())[i].get_type_of_hh()\n",
    "    list_type_of_hh.append(type_of_hh_temp) \n",
    "    \n",
    "    hh_size_temp = int(list(graph.m_adj_list.keys())[i].get_hh_size())\n",
    "    list_hh_size.append(hh_size_temp)\n",
    "       \n",
    "    n_same_hh_temp = len(list(filter(lambda x: x[1] == \"same_hh\", graph.m_adj_list[list(graph.m_adj_list.keys())[i]])))\n",
    "    list_n_same_hh.append(n_same_hh_temp)\n",
    "    \n",
    "    n_same_area_temp = len(list(filter(lambda x: x[1] == \"same_area\", graph.m_adj_list[list(graph.m_adj_list.keys())[i]])))\n",
    "    list_n_same_area.append(n_same_area_temp)\n",
    "    \n",
    "    n_outside_area_temp = len(list(filter(lambda x: x[1] == \"outside_area\", graph.m_adj_list[list(graph.m_adj_list.keys())[i]])))\n",
    "    list_n_outside_area.append(n_outside_area_temp)\n",
    "    \n",
    "    n_total_temp = len(graph.m_adj_list[list(graph.m_adj_list.keys())[i]])\n",
    "    list_n_total.append(n_total_temp)\n",
    "\n",
    "    \n",
    "contact_list = [list_ind, list_type_of_hh, list_hh_size, list_n_same_hh, list_n_same_area, list_n_outside_area, list_n_total]\n",
    "\n",
    "\n",
    "# Convert output to a dataframe\n",
    "import pandas as pd\n",
    "\n",
    "contact_list_df = []\n",
    "contact_list_df = pd.DataFrame(contact_list).transpose()\n",
    "contact_list_df.rename(columns={0:\"ID\", 1: \"type_of_hh\", 2:\"hh_size\", 3:\"contacts_within_hh\", 4:\"contacts_within_area\", 5:\"contacts_outside_area\", 6: \"contacts_total\"}, inplace = True)\n",
    "\n",
    "contact_list_df\n",
    "\n"
   ]
  },
  {
   "cell_type": "code",
   "execution_count": 19,
   "id": "7300e179",
   "metadata": {},
   "outputs": [
    {
     "data": {
      "text/plain": [
       "<matplotlib.legend.Legend at 0x7ff6d9e04640>"
      ]
     },
     "execution_count": 19,
     "metadata": {},
     "output_type": "execute_result"
    },
    {
     "data": {
      "image/png": "[encoded data removed]",
      "text/plain": [
       "<Figure size 432x288 with 1 Axes>"
      ]
     },
     "metadata": {
      "needs_background": "light"
     },
     "output_type": "display_data"
    }
   ],
   "source": [
    "from matplotlib import pyplot as plt\n",
    "\n",
    "groups = contact_list_df.groupby(\"type_of_hh\")\n",
    "for name, group in groups:\n",
    "    plt.hist(group[\"hh_size\"], label=name, alpha = 0.5)\n",
    "    plt.xlabel('Household size')\n",
    "    plt.ylabel('Frequency')\n",
    "plt.legend()"
   ]
  },
  {
   "cell_type": "code",
   "execution_count": null,
   "id": "9e9f54da",
   "metadata": {},
   "outputs": [],
   "source": []
  }
 ],
 "metadata": {
  "hide_input": false,
  "kernelspec": {
   "display_name": "Python 3 (ipykernel)",
   "language": "python",
   "name": "python3"
  },
  "language_info": {
   "codemirror_mode": {
    "name": "ipython",
    "version": 3
   },
   "file_extension": ".py",
   "mimetype": "text/x-python",
   "name": "python",
   "nbconvert_exporter": "python",
   "pygments_lexer": "ipython3",
   "version": "3.9.7"
  }
 },
 "nbformat": 4,
 "nbformat_minor": 5
}
